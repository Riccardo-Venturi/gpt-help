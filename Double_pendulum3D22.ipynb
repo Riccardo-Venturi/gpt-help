{
 "cells": [
  {
   "cell_type": "code",
   "execution_count": 1,
   "metadata": {},
   "outputs": [],
   "source": [
    "#!pip install sympy==1.6.2\n",
    "#serve perchè può creare problemi  con versioni recenti"
   ]
  },
  {
   "cell_type": "code",
   "execution_count": 2,
   "metadata": {},
   "outputs": [],
   "source": [
    "import numpy as np\n",
    "import sympy as smp\n",
    "from scipy.integrate import odeint\n",
    "from sympy.solvers.solveset import linsolve, nonlinsolve\n",
    "import matplotlib.pyplot as plt\n",
    "from IPython.display import display, Math, Image"
   ]
  },
  {
   "cell_type": "code",
   "execution_count": 3,
   "metadata": {},
   "outputs": [
    {
     "name": "stdout",
     "output_type": "stream",
     "text": [
      "Dati:\n"
     ]
    },
    {
     "data": {
      "text/latex": [
       "$\\displaystyle r_{1}$"
      ],
      "text/plain": [
       "r1"
      ]
     },
     "metadata": {},
     "output_type": "display_data"
    },
    {
     "data": {
      "text/latex": [
       "$\\displaystyle r_{2}$"
      ],
      "text/plain": [
       "r2"
      ]
     },
     "metadata": {},
     "output_type": "display_data"
    },
    {
     "data": {
      "text/latex": [
       "$\\displaystyle m_{1}$"
      ],
      "text/plain": [
       "m1"
      ]
     },
     "metadata": {},
     "output_type": "display_data"
    },
    {
     "data": {
      "text/latex": [
       "$\\displaystyle m_{2}$"
      ],
      "text/plain": [
       "m2"
      ]
     },
     "metadata": {},
     "output_type": "display_data"
    },
    {
     "data": {
      "text/latex": [
       "$\\displaystyle g$"
      ],
      "text/plain": [
       "g"
      ]
     },
     "metadata": {},
     "output_type": "display_data"
    }
   ],
   "source": [
    "###78 Riccardo Venturi, Serve a visualizzare le equazioni da usare nel doppio pendolo semplice 3D\n",
    "#Mrpsolver for video youtubeè\n",
    "\n",
    "\n",
    "# Definizione dei simboli\n",
    "t, g = smp.symbols('t g')\n",
    "m1, m2 = smp.symbols('m1 m2')\n",
    "r1, r2 = smp.symbols('r1, r2')\n",
    "O1, O2 = smp.symbols(r'\\theta_1 \\theta_2', cls=smp.Function)\n",
    "\n",
    "# Definizione delle funzioni tetha e fiiii\n",
    "O1 = O1(t)\n",
    "O2 = O2(t)\n",
    "f1, f2 = smp.symbols(r'\\phi_1 \\phi_2', cls=smp.Function)\n",
    "f1 = f1(t)\n",
    "f2 = f2(t)\n",
    "# Visualizzazione\n",
    "print(\"Dati:\")\n",
    "display(r1, r2) \n",
    "display(m1, m2, g)"
   ]
  },
  {
   "cell_type": "code",
   "execution_count": 4,
   "metadata": {},
   "outputs": [
    {
     "data": {
      "text/plain": [
       "\"display(Math(f'\\\\dot{{O}}_1 = {smp.latex(O1_d)}'))\\ndisplay(Math(f'\\\\ddot{{O}}_1 = {smp.latex(O1_dd)}'))\\ndisplay(Math(f'\\\\dot{{f}}_1 = {smp.latex(f1_d)}'))\\ndisplay(Math(f'\\\\ddot{{f}}_1 = {smp.latex(f1_dd)}'))\""
      ]
     },
     "execution_count": 4,
     "metadata": {},
     "output_type": "execute_result"
    }
   ],
   "source": [
    "O1_d = smp.diff(O1, t)\n",
    "O2_d = smp.diff(O2, t)\n",
    "f1_d = smp.diff(f1, t)\n",
    "f2_d = smp.diff(f2, t)\n",
    "O1_dd = smp.diff(O1_d, t)\n",
    "O2_dd = smp.diff(O2_d, t)\n",
    "f1_dd = smp.diff(f1_d, t)\n",
    "f2_dd = smp.diff(f2_d, t)\n",
    "\"\"\"display(Math(f'\\\\dot{{O}}_1 = {smp.latex(O1_d)}'))\n",
    "display(Math(f'\\\\ddot{{O}}_1 = {smp.latex(O1_dd)}'))\n",
    "display(Math(f'\\\\dot{{f}}_1 = {smp.latex(f1_d)}'))\n",
    "display(Math(f'\\\\ddot{{f}}_1 = {smp.latex(f1_dd)}'))\"\"\""
   ]
  },
  {
   "cell_type": "code",
   "execution_count": 5,
   "metadata": {},
   "outputs": [
    {
     "data": {
      "text/plain": [
       "\"display(Math(f'\\\\dot{{theta}}_2 = {smp.latex(O2_d)}'))\\ndisplay(Math(f'\\\\dot{{phi}}_2 = {smp.latex(f2_d)}'))\\ndisplay(Math(f'\\\\ddot{{phi}}_2 = {smp.latex(f2_dd)}'))\\ndisplay(Math(f'\\\\ddot{{theta}}_2 = {smp.latex(O2_dd)}'))\""
      ]
     },
     "execution_count": 5,
     "metadata": {},
     "output_type": "execute_result"
    }
   ],
   "source": [
    "\"\"\"display(Math(f'\\\\dot{{theta}}_2 = {smp.latex(O2_d)}'))\n",
    "display(Math(f'\\\\dot{{phi}}_2 = {smp.latex(f2_d)}'))\n",
    "display(Math(f'\\\\ddot{{phi}}_2 = {smp.latex(f2_dd)}'))\n",
    "display(Math(f'\\\\ddot{{theta}}_2 = {smp.latex(O2_dd)}'))\"\"\""
   ]
  },
  {
   "cell_type": "code",
   "execution_count": 6,
   "metadata": {},
   "outputs": [
    {
     "data": {
      "text/plain": [
       "\"display(Math(f'x1 = {smp.latex(x1)}'))\\ndisplay(Math(f'y1 = {smp.latex(y1)}'))\\ndisplay(Math(f'z1 = {smp.latex(z1)}'))\\ndisplay(Math(f'x2 = {smp.latex(x2)}'))\\ndisplay(Math(f'y2 = {smp.latex(y2)}'))\\ndisplay(Math(f'z2 = {smp.latex(z2)}'))\""
      ]
     },
     "execution_count": 6,
     "metadata": {},
     "output_type": "execute_result"
    }
   ],
   "source": [
    "x1 = r1*smp.sin(O1)*smp.cos(f1)\n",
    "y1 = r1*smp.sin(O1)*smp.sin(f1)\n",
    "z1 = -r1*smp.cos(O1)\n",
    "x2 = x1 + r2*smp.sin(O2)*smp.cos(f2)\n",
    "y2 = y1 + r2*smp.sin(O2)*smp.sin(f2)\n",
    "z2 = z1 -r2*smp.cos(O2)\n",
    "\"\"\"display(Math(f'x1 = {smp.latex(x1)}'))\n",
    "display(Math(f'y1 = {smp.latex(y1)}'))\n",
    "display(Math(f'z1 = {smp.latex(z1)}'))\n",
    "display(Math(f'x2 = {smp.latex(x2)}'))\n",
    "display(Math(f'y2 = {smp.latex(y2)}'))\n",
    "display(Math(f'z2 = {smp.latex(z2)}'))\"\"\""
   ]
  },
  {
   "cell_type": "code",
   "execution_count": 7,
   "metadata": {},
   "outputs": [
    {
     "data": {
      "text/plain": [
       "\"display(x1_f)#dummy variables, funzione\\ndisplay(Math(f'z2_f = {smp.latex(z2_f)}'))#numeriche\""
      ]
     },
     "execution_count": 7,
     "metadata": {},
     "output_type": "execute_result"
    }
   ],
   "source": [
    "#funzioni numeriche per i calcoli\n",
    "x1_f = smp.lambdify((O1, O2, f1, f2, r1, r2), x1)\n",
    "y1_f = smp.lambdify((O1, O2, f1, f2, r1, r2), y1)\n",
    "z1_f = smp.lambdify((O1, O2, f1, f2, r1, r2), z1)\n",
    "x2_f = smp.lambdify((O1, O2, f1, f2, r1, r2), x2)\n",
    "y2_f = smp.lambdify((O1, O2, f1, f2, r1, r2), y2)\n",
    "z2_f = smp.lambdify((O1, O2, f1, f2, r1, r2), z2)\n",
    "\"\"\"display(x1_f)#dummy variables, funzione\n",
    "display(Math(f'z2_f = {smp.latex(z2_f)}'))#numeriche\"\"\""
   ]
  },
  {
   "cell_type": "code",
   "execution_count": 8,
   "metadata": {},
   "outputs": [
    {
     "data": {
      "text/plain": [
       "\"display(Math(f'\\\\dot{{x}}_1 = {smp.latex(x1_d)}'))\\ndisplay(Math(f'\\\\dot{{y}}_1 = {smp.latex(y1_d)}'))\\ndisplay(Math(f'\\\\dot{{z}}_1 = {smp.latex(z1_d)}'))\\ndisplay(Math(f'\\\\dot{{z}}_2 = {smp.latex(z2_d)}'))\\ndisplay(Math(f'\\\\dot{{x}}_2 = {smp.latex(x2_d)}'))\\ndisplay(Math(f'\\\\dot{{y}}_2 = {smp.latex(y2_d)}'))\\n\""
      ]
     },
     "execution_count": 8,
     "metadata": {},
     "output_type": "execute_result"
    }
   ],
   "source": [
    "\n",
    "# Calcola le derivate\n",
    "x1_d = smp.diff(x1, t)\n",
    "y1_d = smp.diff(y1, t)\n",
    "x2_d = smp.diff(x2, t)\n",
    "y2_d = smp.diff(y2, t)\n",
    "z1_d=smp.diff(z1,t)\n",
    "z2_d=smp.diff(z2,t)\n",
    "# Visualizza le derivate con i punti sopra le variabili\n",
    "\"\"\"display(Math(f'\\\\dot{{x}}_1 = {smp.latex(x1_d)}'))\n",
    "display(Math(f'\\\\dot{{y}}_1 = {smp.latex(y1_d)}'))\n",
    "display(Math(f'\\\\dot{{z}}_1 = {smp.latex(z1_d)}'))\n",
    "display(Math(f'\\\\dot{{z}}_2 = {smp.latex(z2_d)}'))\n",
    "display(Math(f'\\\\dot{{x}}_2 = {smp.latex(x2_d)}'))\n",
    "display(Math(f'\\\\dot{{y}}_2 = {smp.latex(y2_d)}'))\n",
    "\"\"\""
   ]
  },
  {
   "cell_type": "code",
   "execution_count": 9,
   "metadata": {},
   "outputs": [],
   "source": [
    "# Kinetic #posso usare x1_d x2_d etc... ho rifatto le diff per esercitarmi\n",
    "T1 = smp.Rational(1,2) * m1 * (smp.diff(x1, t)**2 + smp.diff(y1, t)**2 + smp.diff(z1, t)**2)\n",
    "T2 = smp.Rational(1,2) * m2 * (smp.diff(x2, t)**2 + smp.diff(y2, t)**2 + smp.diff(z2, t)**2)\n",
    "T = T1+T2\n",
    "# Potential\n",
    "V1 = m1*g*z1\n",
    "V2 = m2*g*z2\n",
    "V = V1 + V2\n",
    "# Lagrangian\n",
    "L = T-V #equazione finale\n",
    "#display(Math(f'{smp.latex(L)} = 0 '))"
   ]
  },
  {
   "cell_type": "code",
   "execution_count": 10,
   "metadata": {},
   "outputs": [],
   "source": [
    "#equazione 1-2 display solo 1\n",
    "L_O1=smp.diff(L,O1)\n",
    "L_dO1=smp.diff(smp.diff(L,O1_d), t)\n",
    "L_dO2=smp.diff(smp.diff(L,O2_d), t)\n",
    "L_O2=smp.diff(L,O2)"
   ]
  },
  {
   "cell_type": "code",
   "execution_count": 11,
   "metadata": {},
   "outputs": [],
   "source": [
    "L_f1=smp.diff(L,f1)\n",
    "L_df1=smp.diff(smp.diff(L,f1_d), t)\n",
    "L_df2=smp.diff(smp.diff(L,f2_d), t)\n",
    "L_f2=smp.diff(L,f2)"
   ]
  },
  {
   "cell_type": "code",
   "execution_count": 12,
   "metadata": {},
   "outputs": [],
   "source": [
    "L_1O=L_dO1-L_O1\n",
    "L_2O=L_dO2-L_O2\n",
    "l1_O=(L_1O).simplify()\n",
    "l2_O=(L_2O).simplify()\n",
    "\"\"\"display(Math(f'{smp.latex(l1_O)} = 0 '))\n",
    "display(Math(f'{smp.latex(l2_O)} = 0 '))\n",
    "\"\"\""
   ]
  },
  {
   "cell_type": "code",
   "execution_count": null,
   "metadata": {},
   "outputs": [],
   "source": [
    "L_1f=L_df1-L_f1\n",
    "L_2f=L_df2-L_f2\n",
    "l1_f=(L_1f).simplify()\n",
    "l2_f=(L_2f).simplify()\n"
   ]
  },
  {
   "cell_type": "code",
   "execution_count": null,
   "metadata": {},
   "outputs": [],
   "source": [
    "sol_the1_dd = smp.solve(l1_O, O1_dd, dict=True, simplify=False, rational=False)\n",
    "\n",
    "# Sostituisci la soluzione trovata in LE2 e risolvi per the2_dd\n",
    "LE2_substituted = l2_O.subs(O1_dd, sol_the1_dd[0][O1_dd])\n",
    "sol_the2_dd = smp.solve(LE2_substituted, O2_dd, dict=True, simplify=False, rational=False)\n",
    "\n",
    "\n",
    "# Sostituisci la soluzione trovata in LE3 e risolvi per phi1_dd\n",
    "\n",
    "LE3_substituted = l1_f.subs(O2_dd, sol_the2_dd[0][O2_dd])\n",
    "sol_phi1_dd = smp.solve(LE3_substituted, f1_dd, dict=True, simplify=False, rational=False)\n",
    "\n",
    "\n",
    "# Sostituisci la soluzione trovata in LE4 e risolvi per phi2_dd\n",
    "LE4_substituted = l2_f.subs(f1_dd, sol_phi1_dd[0][f1_dd])\n",
    "sol_phi2_dd = smp.solve(LE4_substituted, f2_dd, dict=True, simplify=False, rational=False)\n",
    "\n",
    "# Visualizza le soluzioni parziali\n",
    "#print(sol_the1_dd, sol_the2_dd, sol_phi1_dd, sol_phi2_dd)\n",
    "combined_solutions = {**sol_the1_dd[0], **sol_the2_dd[0], **sol_phi1_dd[0], **sol_phi2_dd[0]}\n"
   ]
  },
  {
   "cell_type": "code",
   "execution_count": null,
   "metadata": {},
   "outputs": [],
   "source": [
    "from sympy import Derivative, Function,symbols\n",
    "# Definizione delle variabili simboliche di funzione\n",
    "t = symbols('t')\n",
    "phi1 = Function('phi_1')(t)\n",
    "phi2 = Function('phi_2')(t)\n",
    "theta1 = Function('theta_1')(t)\n",
    "theta2 = Function('theta_2')(t)\n",
    "\n",
    "# Definizione delle derivate\n",
    "phi1_d = Derivative(phi1, t)\n",
    "phi2_dd = Derivative(phi2, t, t)\n",
    "theta2_d = Derivative(theta2, t)\n",
    "theta2_dd = Derivative(theta2, t, t)\n",
    "\n",
    "# Ora puoi utilizzare queste definizioni nelle tue sostituzioni\n",
    "simplified_the1_dd = combined_solutions[O1_dd].subs({\n",
    "    phi1_d: f1_d, \n",
    "    phi2_dd: f2_dd,\n",
    "    theta2_d: O2_d,\n",
    "    theta2_dd: O2_dd\n",
    "})\n",
    "\n",
    "# Semplificazione dell'espressione\n",
    "simplified_the1_dd = smp.simplify(simplified_the1_dd)\n",
    "# Sostituzioni delle derivate\n",
    "simplified_the1_dd_substituted = simplified_the1_dd.subs({\n",
    "    Derivative(phi1, t): f1_d,\n",
    "    Derivative(phi2, t, t): f2_dd,\n",
    "    Derivative(theta2, t): O2_d,\n",
    "    Derivative(theta2, t, t): O2_dd\n",
    "})\n",
    "\n",
    "# Ulteriore semplificazione\n",
    "simplified_the1_dd_final = smp.simplify(simplified_the1_dd_substituted)\n",
    "\n",
    "# Stampa dell'espressione finale\n",
    "print(\"Espressione finale per the1_dd:\", simplified_the1_dd_final)\n",
    "\n",
    "# Verifica della nuova espressione\n",
    "print(\"Espressione semplificata e sostituita per the1_dd:\", simplified_the1_dd)\n",
    "\n"
   ]
  },
  {
   "cell_type": "code",
   "execution_count": null,
   "metadata": {},
   "outputs": [],
   "source": []
  },
  {
   "cell_type": "code",
   "execution_count": null,
   "metadata": {},
   "outputs": [],
   "source": [
    "\n",
    "do1dt_f = smp.lambdify((t,g,m1,m2,r1,r2,O1,O2,O1_d,O2_d,f1,f2,f1_d,f2_d), simplified_the1_dd, modules='numpy')\n",
    "do2dt_f = smp.lambdify((t,g,m1,m2,r1,r2,O1,O2,O1_d,O2_d,f1,f2,f1_d,f2_d), simplified_the2_dd, mudules='numpy')\n",
    "dthe1dt_f = smp.lambdify(O1_d, O1_d)\n",
    "dthe2dt_f = smp.lambdify(O2_d, O2_d)\n",
    "\n",
    "dw1dt_f = smp.lambdify((t,g,m1,m2,r1,r2,O1,O2,O1_d,O2_d,f1,f2,f1_d,f2_d), combined_solutions[f1_dd],modules='numpy')\n",
    "dw2dt_f = smp.lambdify((t,g,m1,m2,r1,r2,O1,O2,O1_d,O2_d,f1,f2,f1_d,f2_d), simplified_phi2_dd, modules='numpy')\n",
    "dphi1dt_f = smp.lambdify(f1_d, f1_d)\n",
    "dphi2dt_f = smp.lambdify(f2_d, f2_d)\n",
    "\n"
   ]
  },
  {
   "cell_type": "code",
   "execution_count": null,
   "metadata": {},
   "outputs": [],
   "source": [
    "def dSdt(S, t, g, m1, m2, r1, r2):\n",
    "    the1, the2, phi1, phi2, o1, o2, w1, w2 = S\n",
    "    return [\n",
    "        dthe1dt_f(o1),\n",
    "        dthe2dt_f(o2),\n",
    "        dphi1dt_f(w1),\n",
    "        dphi2dt_f(w2),\n",
    "        do1dt_f(t, g, m1, m2, r1, r2, the1, the2, o1, o2, phi1, phi2, w1, w2),\n",
    "        do2dt_f(t, g, m1, m2, r1, r2, the1, the2, o1, o2, phi1, phi2, w1, w2),\n",
    "        dw1dt_f(t, g, m1, m2, r1, r2, the1, the2, o1, o2, phi1, phi2, w1, w2),\n",
    "        dw2dt_f(t, g, m1, m2, r1, r2, the1, the2, o1, o2, phi1, phi2, w1, w2),\n",
    "    ]"
   ]
  },
  {
   "cell_type": "code",
   "execution_count": null,
   "metadata": {},
   "outputs": [],
   "source": [
    "\"\"\"t = np.linspace(0, 40, 1001)\n",
    "g = 9.81\n",
    "m1=2\n",
    "m2=1\n",
    "r1 = 2\n",
    "r2 = 1\n",
    "ans = odeint(dSdt, y0=[np.pi/3, np.pi/3, 0, -np.pi, 3, 10, -2, -10], t=t, args=(g,m1,m2,r1,r2))\"\"\""
   ]
  },
  {
   "cell_type": "code",
   "execution_count": null,
   "metadata": {},
   "outputs": [],
   "source": [
    "ans.shape"
   ]
  },
  {
   "cell_type": "code",
   "execution_count": null,
   "metadata": {},
   "outputs": [],
   "source": [
    "the1 = ans.T[0]\n",
    "the2 = ans.T[1]\n",
    "phi1 = ans.T[2]"
   ]
  },
  {
   "cell_type": "code",
   "execution_count": null,
   "metadata": {},
   "outputs": [],
   "source": [
    "def get_pos(the1, the2, phi1, phi2, r1, r2):\n",
    "    return (x1_f(the1, the2, phi1, phi2, r1, r2),\n",
    "            y1_f(the1, the2, phi1, phi2, r1, r2),\n",
    "            z1_f(the1, the2, phi1, phi2, r1, r2),\n",
    "            x2_f(the1, the2, phi1, phi2, r1, r2),\n",
    "            y2_f(the1, the2, phi1, phi2, r1, r2),\n",
    "            z2_f(the1, the2, phi1, phi2, r1, r2))\n",
    "\n",
    "x1, y1, z1, x2, y2, z2 = get_pos(ans.T[0], ans.T[1], ans.T[2], ans.T[3], r1, r2)\n",
    "np.save('../data/3Dpen', np.array([x1,y1,z1,x2,y2,z2]))"
   ]
  }
 ],
 "metadata": {
  "kernelspec": {
   "display_name": "Python 3",
   "language": "python",
   "name": "python3"
  },
  "language_info": {
   "codemirror_mode": {
    "name": "ipython",
    "version": 3
   },
   "file_extension": ".py",
   "mimetype": "text/x-python",
   "name": "python",
   "nbconvert_exporter": "python",
   "pygments_lexer": "ipython3",
   "version": "3.11.5"
  }
 },
 "nbformat": 4,
 "nbformat_minor": 2
}
